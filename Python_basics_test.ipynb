{
  "nbformat": 4,
  "nbformat_minor": 0,
  "metadata": {
    "colab": {
      "provenance": [],
      "toc_visible": true
    },
    "kernelspec": {
      "name": "python3",
      "display_name": "Python 3"
    },
    "language_info": {
      "name": "python"
    }
  },
  "cells": [
    {
      "cell_type": "markdown",
      "source": [
        "1) What is Python, and why is it popular?\n",
        "\n",
        "Python is a high-level, interpreted programming language known for its simplicity and readability.\n",
        "\n",
        "Its most widely used language and easy to write code.Python requires fewer lines of code to perform tasks compared to many other languages. This leads to faster development and reduces the bugs\n"
      ],
      "metadata": {
        "id": "CbWgXXJSOpYF"
      }
    },
    {
      "cell_type": "markdown",
      "source": [
        "2) What is interpreter?\n",
        "\n",
        "An interpreter is a type of computer program that executes instructions written in a programming language directly, without requiring them to be compiled into machine code beforehand. In other words, an interpreter reads the source code line-by-line and immediately performs the specified operations.\n"
      ],
      "metadata": {
        "id": "TZva-R86Pk-2"
      }
    },
    {
      "cell_type": "markdown",
      "source": [
        "3) What are pre-defined keyword in python?\n",
        "\n",
        "In Python, keywords are reserved words that have a special meaning and are used to define the syntax and structure of the language. These keywords cannot be used as identifiers (like variable names, function names, or class names)"
      ],
      "metadata": {
        "id": "wRmQr4OfQ9No"
      }
    },
    {
      "cell_type": "markdown",
      "source": [
        "4)Can keywords be used as variable name?\n",
        "\n",
        "Keywords in Python are reserved words that have a special meaning in the language and cannot be used as variable names."
      ],
      "metadata": {
        "id": "orpU6DsVR0jG"
      }
    },
    {
      "cell_type": "markdown",
      "source": [
        "5)What is mutability in python?\n",
        "\n",
        "These are objects whose internal state or content can be modified after they are created.\n",
        "\n",
        "List\n",
        "\n"
      ],
      "metadata": {
        "id": "mfBzSXZ4SM4u"
      }
    },
    {
      "cell_type": "markdown",
      "source": [
        "6) Why are lists mutable, but tuples are immutable?\n",
        "Lists: Lists are designed to represent collections of items that may need to be modified. A list allows you to change its contents by adding, removing, or modifying elements.\n",
        "\n",
        "Tuples: Tuples, on the other hand, are designed to represent fixed, unchanging sequences of items. They are meant to be used in situations where the data should remain constant and immutable.\n",
        "\n",
        "Tuples are created using parentheses () and do not have methods like append() or remove() because their size and contents are fixed. However, they do support most of the same operations as lists, like indexing, slicing, and iteration\n"
      ],
      "metadata": {
        "id": "9FywzE36oKTY"
      }
    },
    {
      "cell_type": "markdown",
      "source": [
        "7) What is the difference between “==” and “is” operators in Python?\n",
        "==: Compares the values of two objects. Returns True if the objects have the same data.\n",
        "is: Compares the identity (memory location) of two objects. Returns True if both variables refer to the same object in memory."
      ],
      "metadata": {
        "id": "xihgP4M2o655"
      }
    },
    {
      "cell_type": "markdown",
      "source": [
        "8) What are logical operators in Python?\n",
        "\n",
        "They evaluate the truthiness of multiple conditions and return a Boolean value (True or False)\n",
        "\n",
        "And, or, Not"
      ],
      "metadata": {
        "id": "XGPTVCx_pfWd"
      }
    },
    {
      "cell_type": "markdown",
      "source": [
        "9) What is type casting in Python?\n",
        "\n",
        "Type casting in Python refers to the process of converting one data type to another."
      ],
      "metadata": {
        "id": "ta7KCPxpqMH3"
      }
    },
    {
      "cell_type": "markdown",
      "source": [
        "10) What is the difference between implicit and explicit type casting?\n",
        "\n",
        "Implicit- Automatically it converts data types to precise.\n",
        "\n",
        "Explict - programmer needs to convert\n"
      ],
      "metadata": {
        "id": "NPCtzSkJqbNx"
      }
    },
    {
      "cell_type": "markdown",
      "source": [
        "11) What is the purpose of conditional statements in Python?\n",
        "\n",
        "They allow the program to execute different blocks of code depending on whether a condition is True or False.\n",
        "\n",
        "if\n",
        "elif\n",
        "else"
      ],
      "metadata": {
        "id": "88NFi0xYrRPL"
      }
    },
    {
      "cell_type": "markdown",
      "source": [
        "12) How does the elif statement work?\n",
        "\n",
        "The elif statement is used when you have multiple conditions to check in sequence. If the first if condition evaluates to False, Python will check each subsequent elif condition in order until one of them evaluates to True. If an elif condition is True, its associated block of code is executed, and the rest of the elif conditions are skipped. If none of the if or elif conditions are True, the else block (if present) is executed."
      ],
      "metadata": {
        "id": "m27LoQ8WrqK8"
      }
    },
    {
      "cell_type": "markdown",
      "source": [
        "13) What is the difference between for and while loops?\n",
        "\n",
        "for loop: Best for iterating over a sequence (e.g., list, tuple, range). The number of iterations is typically known in advance.\n",
        "while loop: Best when the number of iterations is not predetermined, and the loop continues based on a condition being True"
      ],
      "metadata": {
        "id": "GtxPa7e3r_jO"
      }
    },
    {
      "cell_type": "markdown",
      "source": [
        "14) Describe a scenario where a while loop is more suitable than a for loop.\n",
        "\n",
        "A while loop is more suitable than a for loop when the number of iterations is not known in advance, and the loop needs to continue running until a specific condition is met."
      ],
      "metadata": {
        "id": "rFqxePMzsc7g"
      }
    },
    {
      "cell_type": "markdown",
      "source": [
        "                      **Practical Questions?**"
      ],
      "metadata": {
        "id": "bTHtQq0zs9nu"
      }
    },
    {
      "cell_type": "code",
      "source": [
        "# Write a Python program to print \"Hello, World! #\n",
        "print(\"Hello,World!\")"
      ],
      "metadata": {
        "colab": {
          "base_uri": "https://localhost:8080/"
        },
        "id": "elt5OAfotD3Y",
        "outputId": "71d7ca4f-6ee3-4e63-aaf2-4f7a93e6dd8d"
      },
      "execution_count": null,
      "outputs": [
        {
          "output_type": "stream",
          "name": "stdout",
          "text": [
            "Hello,World!\n"
          ]
        }
      ]
    },
    {
      "cell_type": "code",
      "source": [
        "# Write a Python program that displays your name and age #\n",
        "name=\"Satya\"\n",
        "age=31\n",
        "print(name,age)"
      ],
      "metadata": {
        "colab": {
          "base_uri": "https://localhost:8080/"
        },
        "id": "bskuOAmkuf83",
        "outputId": "05ba9e8b-a02d-4de7-a038-f7b386ffa318"
      },
      "execution_count": null,
      "outputs": [
        {
          "output_type": "stream",
          "name": "stdout",
          "text": [
            "Satya 31\n"
          ]
        }
      ]
    },
    {
      "cell_type": "code",
      "source": [
        "# Write code to print all the pre-defined keywords in Python using the keyword library #\n",
        "import keyword\n",
        "\n",
        "print(\"Python Keywords:\", keyword.kwlist)"
      ],
      "metadata": {
        "colab": {
          "base_uri": "https://localhost:8080/"
        },
        "id": "VM9dFpT7uym9",
        "outputId": "7965546c-780c-49e4-ea30-91b6ce25b78f"
      },
      "execution_count": null,
      "outputs": [
        {
          "output_type": "stream",
          "name": "stdout",
          "text": [
            "Python Keywords: ['False', 'None', 'True', 'and', 'as', 'assert', 'async', 'await', 'break', 'class', 'continue', 'def', 'del', 'elif', 'else', 'except', 'finally', 'for', 'from', 'global', 'if', 'import', 'in', 'is', 'lambda', 'nonlocal', 'not', 'or', 'pass', 'raise', 'return', 'try', 'while', 'with', 'yield']\n"
          ]
        }
      ]
    },
    {
      "cell_type": "code",
      "source": [
        "#  Write a program that checks if a given word is a Python keyword #\n",
        "import keyword\n",
        "\n",
        "word = input(\"Enter a word: \")\n",
        "\n",
        "if keyword.iskeyword(word):\n",
        "    print(f\"{word} is a Python keyword.\")\n",
        "else:\n",
        "    print(f\"{word} is not a Python keyword.\")"
      ],
      "metadata": {
        "id": "l063sXs-v9JF"
      },
      "execution_count": null,
      "outputs": []
    },
    {
      "cell_type": "code",
      "source": [
        "\n",
        "# Create a list and a tuple\n",
        "my_list = [1, 2, 3]\n",
        "my_tuple = (1, 2, 3)\n",
        "\n",
        "# Modify the list\n",
        "my_list[1] = 42\n",
        "print(\"Modified list:\", my_list)\n",
        "\n",
        "# Attempt to modify the tuple but can't be modified\n",
        "my_tuple[1] = 42\n",
        "print(\"Modified tuple:\", my_tuple)\n"
      ],
      "metadata": {
        "id": "Ec9h-_q5wA1v",
        "colab": {
          "base_uri": "https://localhost:8080/",
          "height": 211
        },
        "outputId": "72502759-ed7c-4bf4-fbe3-66de54688b9e"
      },
      "execution_count": null,
      "outputs": [
        {
          "output_type": "stream",
          "name": "stdout",
          "text": [
            "Modified list: [1, 42, 3]\n"
          ]
        },
        {
          "output_type": "error",
          "ename": "TypeError",
          "evalue": "'tuple' object does not support item assignment",
          "traceback": [
            "\u001b[0;31m---------------------------------------------------------------------------\u001b[0m",
            "\u001b[0;31mTypeError\u001b[0m                                 Traceback (most recent call last)",
            "\u001b[0;32m<ipython-input-1-b58e34be4d1c>\u001b[0m in \u001b[0;36m<cell line: 11>\u001b[0;34m()\u001b[0m\n\u001b[1;32m      9\u001b[0m \u001b[0;34m\u001b[0m\u001b[0m\n\u001b[1;32m     10\u001b[0m \u001b[0;31m# Attempt to modify the tuple but can't be modified\u001b[0m\u001b[0;34m\u001b[0m\u001b[0;34m\u001b[0m\u001b[0m\n\u001b[0;32m---> 11\u001b[0;31m \u001b[0mmy_tuple\u001b[0m\u001b[0;34m[\u001b[0m\u001b[0;36m1\u001b[0m\u001b[0;34m]\u001b[0m \u001b[0;34m=\u001b[0m \u001b[0;36m42\u001b[0m\u001b[0;34m\u001b[0m\u001b[0;34m\u001b[0m\u001b[0m\n\u001b[0m\u001b[1;32m     12\u001b[0m \u001b[0mprint\u001b[0m\u001b[0;34m(\u001b[0m\u001b[0;34m\"Modified tuple:\"\u001b[0m\u001b[0;34m,\u001b[0m \u001b[0mmy_tuple\u001b[0m\u001b[0;34m)\u001b[0m\u001b[0;34m\u001b[0m\u001b[0;34m\u001b[0m\u001b[0m\n",
            "\u001b[0;31mTypeError\u001b[0m: 'tuple' object does not support item assignment"
          ]
        }
      ]
    },
    {
      "cell_type": "code",
      "source": [
        "# Write a program to demonstrate the use of logical operators #\n",
        "x = 5\n",
        "y = 10\n",
        "\n",
        "if x > 0 and y > 0:\n",
        "    print(\"Both x and y are positive.\")\n",
        "\n",
        "if x > 0 or y > 0:\n",
        "    print(\"At least one of x or y is positive.\")\n",
        ""
      ],
      "metadata": {
        "id": "s1KcI2M31Ze5"
      },
      "execution_count": null,
      "outputs": []
    },
    {
      "cell_type": "code",
      "source": [
        "# Write a Python program to convert user input from string to integer, float, and boolean types #\n",
        "user_input = input(\"Enter a value: \")\n",
        "\n",
        "# Convert to integer\n",
        "try:\n",
        "    integer_value = int(user_input)\n",
        "    print(\"Converted to integer:\", integer_value)\n",
        "except ValueError:\n",
        "    print(\"Invalid input. Cannot convert to integer.\")\n",
        "# Convert to float\n",
        "try:\n",
        "  float_value = float(user_input)\n",
        "  print(\"Converted to float:\", float_value)\n",
        "except ValueError:\n",
        "  print(\"Invalid input. Cannot convert to float.\")\n",
        "# Convert to boolean\n",
        "try:\n",
        "  boolean_value = bool(user_input)\n",
        "  print(\"Converted to boolean:\", boolean_value)\n",
        "except ValueError:\n",
        "  print(\"Invalid input. Cannot convert to boolean.\")"
      ],
      "metadata": {
        "id": "qAiIjbe31rSM"
      },
      "execution_count": null,
      "outputs": []
    },
    {
      "cell_type": "code",
      "source": [
        "# Write code to demonstrate type casting with list elements #\n",
        "my_list=[1,2,3,4.5]\n",
        "float_list=[float(x) for x in my_list]\n",
        "print(float_list)"
      ],
      "metadata": {
        "colab": {
          "base_uri": "https://localhost:8080/"
        },
        "id": "wHgTzoLL3RVy",
        "outputId": "81f0adcc-ac23-4614-db7b-316f99ce3971"
      },
      "execution_count": 1,
      "outputs": [
        {
          "output_type": "stream",
          "name": "stdout",
          "text": [
            "[1.0, 2.0, 3.0, 4.5]\n"
          ]
        }
      ]
    },
    {
      "cell_type": "code",
      "source": [
        "# Write a program that checks if a number is positive, negative, or zero #\n",
        "num = float(input(\"Enter a number: \"))\n",
        "if num > 0:\n",
        "   print(\"Positive number\")\n",
        "elif num == 0:\n",
        "   print(\"Zero\")\n",
        "else:\n",
        "   print(\"Negative number\")"
      ],
      "metadata": {
        "colab": {
          "base_uri": "https://localhost:8080/"
        },
        "id": "lJY-bJdH5RZQ",
        "outputId": "d847fb6a-26eb-4688-a3c6-3a54cf36a8c3"
      },
      "execution_count": 2,
      "outputs": [
        {
          "output_type": "stream",
          "name": "stdout",
          "text": [
            "Enter a number: 1\n",
            "Positive number\n"
          ]
        }
      ]
    },
    {
      "cell_type": "code",
      "source": [
        "# Write a for loop to print numbers from 1 to 10 #\n",
        "for i in range(1, 11):\n",
        "    print(i)\n"
      ],
      "metadata": {
        "id": "fn2f_4fh5_9S"
      },
      "execution_count": null,
      "outputs": []
    },
    {
      "cell_type": "code",
      "source": [
        "# Write a Python program to find the sum of all even numbers between 1 and 50 #\n",
        "for i in range(1, 51):\n",
        "    if i % 2 == 0:\n",
        "        print(i)"
      ],
      "metadata": {
        "id": "1QVESXqd6Pcz"
      },
      "execution_count": null,
      "outputs": []
    },
    {
      "cell_type": "code",
      "source": [
        "#Write a program to reverse a string using a while loop #\n",
        "name= str((input(\"Enter the name: \")))\n",
        "\n",
        "i = len(name)\n",
        "\n",
        "while i in range(len(name)) > 0:\n",
        "    print(name[i], end = '')\n",
        "    i = i - 1"
      ],
      "metadata": {
        "id": "MNIxZZ1_6kWm"
      },
      "execution_count": null,
      "outputs": []
    },
    {
      "cell_type": "code",
      "source": [
        "# Write a factorial using while loop#\n",
        "num = int(input(\"Enter a number: \"))\n",
        "\n",
        "factorial = 1\n",
        "i = 1\n",
        "\n",
        "while i <= num:\n",
        "    factorial *= i\n",
        "    i += 1\n",
        "\n",
        "print(f\"The factorial of {num} is {factorial}.\")"
      ],
      "metadata": {
        "id": "-HA-h64Z7rDV"
      },
      "execution_count": null,
      "outputs": []
    }
  ]
}